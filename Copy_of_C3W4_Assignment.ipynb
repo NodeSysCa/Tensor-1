{
  "cells": [
    {
      "cell_type": "markdown",
      "metadata": {
        "id": "view-in-github",
        "colab_type": "text"
      },
      "source": [
        "<a href=\"https://colab.research.google.com/github/NodeSysCa/Tensor-1/blob/main/Copy_of_C3W4_Assignment.ipynb\" target=\"_parent\"><img src=\"https://colab.research.google.com/assets/colab-badge.svg\" alt=\"Open In Colab\"/></a>"
      ]
    },
    {
      "cell_type": "markdown",
      "metadata": {
        "id": "bFWbEb6uGbN-"
      },
      "source": [
        "# Week 4: Predicting the next word\n",
        "\n",
        "Welcome to this assignment! During this week you saw how to create a model that will predict the next word in a text sequence, now you will implement such model and train it using a corpus of Shakespeare's sonnets, while also creating some helper functions to pre-process the data.\n",
        "\n",
        "\n",
        "Let's get started!"
      ]
    },
    {
      "cell_type": "markdown",
      "metadata": {
        "id": "Cp4A-ZBwSN11"
      },
      "source": [
        "_**NOTE:** To prevent errors from the autograder, pleave avoid editing or deleting non-graded cells in this notebook . Please only put your solutions in between the `### START CODE HERE` and `### END CODE HERE` code comments, and also refrain from adding any new cells._"
      ]
    },
    {
      "cell_type": "code",
      "execution_count": null,
      "metadata": {
        "deletable": false,
        "editable": false,
        "id": "BOwsuGQQY9OL",
        "tags": [
          "graded"
        ]
      },
      "outputs": [],
      "source": [
        "# grader-required-cell\n",
        "\n",
        "import numpy as np\n",
        "import matplotlib.pyplot as plt\n",
        "from tensorflow.keras.models import Sequential\n",
        "from tensorflow.keras.utils import to_categorical\n",
        "from tensorflow.keras.preprocessing.text import Tokenizer\n",
        "from tensorflow.keras.preprocessing.sequence import pad_sequences\n",
        "from tensorflow.keras.layers import Embedding, LSTM, Dense, Bidirectional\n",
        "from tensorflow.keras.optimizers import Adam"
      ]
    },
    {
      "cell_type": "markdown",
      "metadata": {
        "id": "BTxqlHqKHzhr"
      },
      "source": [
        "For this assignment you will be using the [Shakespeare Sonnets Dataset](https://www.opensourceshakespeare.org/views/sonnets/sonnet_view.php?range=viewrange&sonnetrange1=1&sonnetrange2=154), which contains more than 2000 lines of text extracted from Shakespeare's sonnets."
      ]
    },
    {
      "cell_type": "code",
      "execution_count": null,
      "metadata": {
        "deletable": false,
        "editable": false,
        "id": "WZ4qOUzujMP6",
        "tags": [
          "graded"
        ],
        "colab": {
          "base_uri": "https://localhost:8080/"
        },
        "outputId": "8a3bd641-4698-4d96-89a6-1a3140cac46a"
      },
      "outputs": [
        {
          "output_type": "stream",
          "name": "stdout",
          "text": [
            "/usr/local/lib/python3.10/dist-packages/gdown/cli.py:121: FutureWarning: Option `--id` was deprecated in version 4.3.1 and will be removed in 5.0. You don't need to pass it anymore to use a file ID.\n",
            "  warnings.warn(\n",
            "Downloading...\n",
            "From: https://drive.google.com/uc?id=108jAePKK4R3BVYBbYJZ32JWUwxeMg20K\n",
            "To: /content/sonnets.txt\n",
            "100% 93.6k/93.6k [00:00<00:00, 95.7MB/s]\n"
          ]
        }
      ],
      "source": [
        "# grader-required-cell\n",
        "\n",
        "# sonnets.txt\n",
        "!gdown --id 108jAePKK4R3BVYBbYJZ32JWUwxeMg20K"
      ]
    },
    {
      "cell_type": "code",
      "execution_count": null,
      "metadata": {
        "deletable": false,
        "editable": false,
        "id": "Pfd-nYKij5yY",
        "tags": [
          "graded"
        ],
        "colab": {
          "base_uri": "https://localhost:8080/"
        },
        "outputId": "6a9cd385-82e9-4729-8b98-2e93ec8f14c1"
      },
      "outputs": [
        {
          "output_type": "stream",
          "name": "stdout",
          "text": [
            "There are 2159 lines of sonnets\n",
            "\n",
            "The first 5 lines look like this:\n",
            "\n",
            "from fairest creatures we desire increase,\n",
            "that thereby beauty's rose might never die,\n",
            "but as the riper should by time decease,\n",
            "his tender heir might bear his memory:\n",
            "but thou, contracted to thine own bright eyes,\n"
          ]
        }
      ],
      "source": [
        "# grader-required-cell\n",
        "\n",
        "# Define path for file with sonnets\n",
        "SONNETS_FILE = './sonnets.txt'\n",
        "\n",
        "# Read the data\n",
        "with open('./sonnets.txt') as f:\n",
        "    data = f.read()\n",
        "\n",
        "# Convert to lower case and save as a list\n",
        "corpus = data.lower().split(\"\\n\")\n",
        "\n",
        "print(f\"There are {len(corpus)} lines of sonnets\\n\")\n",
        "print(f\"The first 5 lines look like this:\\n\")\n",
        "for i in range(5):\n",
        "  print(corpus[i])"
      ]
    },
    {
      "cell_type": "markdown",
      "metadata": {
        "id": "imB15zrSNhA1"
      },
      "source": [
        "## Tokenizing the text\n",
        "\n",
        "Now fit the Tokenizer to the corpus and save the total number of words."
      ]
    },
    {
      "cell_type": "code",
      "execution_count": null,
      "metadata": {
        "deletable": false,
        "editable": false,
        "id": "AAhM_qAZk0o5",
        "tags": [
          "graded"
        ]
      },
      "outputs": [],
      "source": [
        "# grader-required-cell\n",
        "\n",
        "tokenizer = Tokenizer()\n",
        "tokenizer.fit_on_texts(corpus)\n",
        "total_words = len(tokenizer.word_index) + 1"
      ]
    },
    {
      "cell_type": "markdown",
      "metadata": {
        "id": "77-0sA46OETa"
      },
      "source": [
        "When converting the text into sequences you can use the `texts_to_sequences` method as you have done throughout this course.\n",
        "\n",
        "In the next graded function you will need to process this corpus one line at a time. Given this, it is important to keep in mind that the way you are feeding the data unto this method affects the result. Check the following example to make this clearer.\n",
        "\n",
        "The first example of the corpus is a string and looks like this:"
      ]
    },
    {
      "cell_type": "code",
      "execution_count": null,
      "metadata": {
        "deletable": false,
        "editable": false,
        "id": "tqhPxdeXlfjh",
        "tags": [
          "graded"
        ],
        "colab": {
          "base_uri": "https://localhost:8080/",
          "height": 35
        },
        "outputId": "422320c8-fa08-4a20-893d-0ac28005ebe6"
      },
      "outputs": [
        {
          "output_type": "execute_result",
          "data": {
            "text/plain": [
              "'from fairest creatures we desire increase,'"
            ],
            "application/vnd.google.colaboratory.intrinsic+json": {
              "type": "string"
            }
          },
          "metadata": {},
          "execution_count": 5
        }
      ],
      "source": [
        "# grader-required-cell\n",
        "\n",
        "corpus[0]"
      ]
    },
    {
      "cell_type": "markdown",
      "metadata": {
        "id": "XFMP4z11O3os"
      },
      "source": [
        "If you pass this text directly into the `texts_to_sequences` method you will get an unexpected result:"
      ]
    },
    {
      "cell_type": "code",
      "execution_count": null,
      "metadata": {
        "deletable": false,
        "editable": false,
        "id": "EMSEhmbzNZCE",
        "tags": [
          "graded"
        ],
        "colab": {
          "base_uri": "https://localhost:8080/"
        },
        "outputId": "4af2ac8e-8215-4601-e715-6870b34c8c98"
      },
      "outputs": [
        {
          "output_type": "execute_result",
          "data": {
            "text/plain": [
              "[[],\n",
              " [],\n",
              " [58],\n",
              " [],\n",
              " [],\n",
              " [],\n",
              " [17],\n",
              " [6],\n",
              " [],\n",
              " [],\n",
              " [],\n",
              " [],\n",
              " [],\n",
              " [],\n",
              " [],\n",
              " [],\n",
              " [17],\n",
              " [],\n",
              " [],\n",
              " [],\n",
              " [],\n",
              " [],\n",
              " [],\n",
              " [],\n",
              " [],\n",
              " [],\n",
              " [],\n",
              " [],\n",
              " [],\n",
              " [6],\n",
              " [],\n",
              " [],\n",
              " [],\n",
              " [6],\n",
              " [],\n",
              " [],\n",
              " [],\n",
              " [],\n",
              " [17],\n",
              " [],\n",
              " [],\n",
              " []]"
            ]
          },
          "metadata": {},
          "execution_count": 6
        }
      ],
      "source": [
        "# grader-required-cell\n",
        "\n",
        "tokenizer.texts_to_sequences(corpus[0])"
      ]
    },
    {
      "cell_type": "markdown",
      "metadata": {
        "id": "pPZmZtpEPEeI"
      },
      "source": [
        "This happened because `texts_to_sequences` expects a list and you are providing a string. However a string is still and `iterable` in Python so you will get the word index of every character in the string.\n",
        "\n",
        "Instead you need to place the example whithin a list before passing it to the method:"
      ]
    },
    {
      "cell_type": "code",
      "execution_count": null,
      "metadata": {
        "deletable": false,
        "editable": false,
        "id": "Qmgo-vXhk4nd",
        "tags": [
          "graded"
        ],
        "colab": {
          "base_uri": "https://localhost:8080/"
        },
        "outputId": "5e54b6a7-3e39-4cd1-bde2-740b5ac7a294"
      },
      "outputs": [
        {
          "output_type": "execute_result",
          "data": {
            "text/plain": [
              "[[34, 417, 877, 166, 213, 517]]"
            ]
          },
          "metadata": {},
          "execution_count": 7
        }
      ],
      "source": [
        "# grader-required-cell\n",
        "\n",
        "tokenizer.texts_to_sequences([corpus[0]])"
      ]
    },
    {
      "cell_type": "markdown",
      "metadata": {
        "id": "0DU7wK-eQ5dc"
      },
      "source": [
        "Notice that you received the sequence wrapped inside a list so in order to get only the desired sequence you need to explicitly get the first item in the list like this:"
      ]
    },
    {
      "cell_type": "code",
      "execution_count": null,
      "metadata": {
        "deletable": false,
        "editable": false,
        "id": "kpTy8WmIQ57P",
        "tags": [
          "graded"
        ],
        "colab": {
          "base_uri": "https://localhost:8080/"
        },
        "outputId": "abf59efa-bb78-4136-97c6-6f21f18614dd"
      },
      "outputs": [
        {
          "output_type": "execute_result",
          "data": {
            "text/plain": [
              "[34, 417, 877, 166, 213, 517]"
            ]
          },
          "metadata": {},
          "execution_count": 32
        }
      ],
      "source": [
        "# grader-required-cell\n",
        "\n",
        "tokenizer.texts_to_sequences([corpus[0]])[0]"
      ]
    },
    {
      "cell_type": "markdown",
      "metadata": {
        "id": "-oqy9KjXRJ9A"
      },
      "source": [
        "## Generating n_grams\n",
        "\n",
        "Now complete the `n_gram_seqs` function below. This function receives the fitted tokenizer and the corpus (which is a list of strings) and should return a list containing the `n_gram` sequences for each line in the corpus:"
      ]
    },
    {
      "cell_type": "code",
      "execution_count": null,
      "metadata": {
        "deletable": false,
        "id": "iy4baJMDl6kj",
        "tags": [
          "graded"
        ]
      },
      "outputs": [],
      "source": [
        "# grader-required-cell\n",
        "\n",
        "# GRADED FUNCTION: n_gram_seqs\n",
        "def n_gram_seqs(corpus, tokenizer):\n",
        "    \"\"\"\n",
        "    Generates a list of n-gram sequences\n",
        "\n",
        "    Args:\n",
        "        corpus (list of string): lines of texts to generate n-grams for\n",
        "        tokenizer (object): an instance of the Tokenizer class containing the word-index dictionary\n",
        "\n",
        "    Returns:\n",
        "        input_sequences (list of int): the n-gram sequences for each line in the corpus\n",
        "    \"\"\"\n",
        "    input_sequences = []\n",
        "\n",
        "    ### START CODE HERE\n",
        "    for line in corpus:\n",
        "\t    token_list = tokenizer.texts_to_sequences([line])[0]\n",
        "\t  # Loop over the line several times to generate the subphrases\n",
        "\t    for i in range(1, len(token_list)):\n",
        "\t  \t  n_gram_sequence = token_list[:i+1]\n",
        "\t\t# Append the subphrase to the sequences list\n",
        "\t  \t  input_sequences.append(n_gram_sequence)\n",
        "    max_sequence_len = max([len(x) for x in input_sequences])\n",
        "\n",
        "    ### END CODE HERE\n",
        "\n",
        "    return input_sequences"
      ]
    },
    {
      "cell_type": "code",
      "execution_count": null,
      "metadata": {
        "deletable": false,
        "editable": false,
        "id": "DlKqW2pfM7G3",
        "tags": [
          "graded"
        ],
        "colab": {
          "base_uri": "https://localhost:8080/"
        },
        "outputId": "44b15fdf-4496-4aa7-9f5c-ee987c792a93"
      },
      "outputs": [
        {
          "output_type": "stream",
          "name": "stdout",
          "text": [
            "n_gram sequences for first example look like this:\n",
            "\n"
          ]
        },
        {
          "output_type": "execute_result",
          "data": {
            "text/plain": [
              "[[34, 417],\n",
              " [34, 417, 877],\n",
              " [34, 417, 877, 166],\n",
              " [34, 417, 877, 166, 213],\n",
              " [34, 417, 877, 166, 213, 517]]"
            ]
          },
          "metadata": {},
          "execution_count": 66
        }
      ],
      "source": [
        "# grader-required-cell\n",
        "\n",
        "# Test your function with one example\n",
        "first_example_sequence = n_gram_seqs([corpus[0]], tokenizer)\n",
        "\n",
        "print(\"n_gram sequences for first example look like this:\\n\")\n",
        "first_example_sequence"
      ]
    },
    {
      "cell_type": "markdown",
      "metadata": {
        "id": "0HL8Ug6UU0Jt"
      },
      "source": [
        "**Expected Output:**\n",
        "\n",
        "```\n",
        "n_gram sequences for first example look like this:\n",
        "\n",
        "[[34, 417],\n",
        " [34, 417, 877],\n",
        " [34, 417, 877, 166],\n",
        " [34, 417, 877, 166, 213],\n",
        " [34, 417, 877, 166, 213, 517]]\n",
        "```"
      ]
    },
    {
      "cell_type": "code",
      "execution_count": null,
      "metadata": {
        "deletable": false,
        "editable": false,
        "id": "wtPpCcBjNc4c",
        "tags": [
          "graded"
        ],
        "colab": {
          "base_uri": "https://localhost:8080/"
        },
        "outputId": "645407e0-3925-471a-bde4-ffa62de3af2c"
      },
      "outputs": [
        {
          "output_type": "stream",
          "name": "stdout",
          "text": [
            "n_gram sequences for next 3 examples look like this:\n",
            "\n"
          ]
        },
        {
          "output_type": "execute_result",
          "data": {
            "text/plain": [
              "[[8, 878],\n",
              " [8, 878, 134],\n",
              " [8, 878, 134, 351],\n",
              " [8, 878, 134, 351, 102],\n",
              " [8, 878, 134, 351, 102, 156],\n",
              " [8, 878, 134, 351, 102, 156, 199],\n",
              " [16, 22],\n",
              " [16, 22, 2],\n",
              " [16, 22, 2, 879],\n",
              " [16, 22, 2, 879, 61],\n",
              " [16, 22, 2, 879, 61, 30],\n",
              " [16, 22, 2, 879, 61, 30, 48],\n",
              " [16, 22, 2, 879, 61, 30, 48, 634],\n",
              " [25, 311],\n",
              " [25, 311, 635],\n",
              " [25, 311, 635, 102],\n",
              " [25, 311, 635, 102, 200],\n",
              " [25, 311, 635, 102, 200, 25],\n",
              " [25, 311, 635, 102, 200, 25, 278]]"
            ]
          },
          "metadata": {},
          "execution_count": 67
        }
      ],
      "source": [
        "# grader-required-cell\n",
        "\n",
        "# Test your function with a bigger corpus\n",
        "next_3_examples_sequence = n_gram_seqs(corpus[1:4], tokenizer)\n",
        "\n",
        "print(\"n_gram sequences for next 3 examples look like this:\\n\")\n",
        "next_3_examples_sequence"
      ]
    },
    {
      "cell_type": "markdown",
      "metadata": {
        "id": "EIzecMczU9UB"
      },
      "source": [
        "**Expected Output:**\n",
        "\n",
        "```\n",
        "n_gram sequences for next 3 examples look like this:\n",
        "\n",
        "[[8, 878],\n",
        " [8, 878, 134],\n",
        " [8, 878, 134, 351],\n",
        " [8, 878, 134, 351, 102],\n",
        " [8, 878, 134, 351, 102, 156],\n",
        " [8, 878, 134, 351, 102, 156, 199],\n",
        " [16, 22],\n",
        " [16, 22, 2],\n",
        " [16, 22, 2, 879],\n",
        " [16, 22, 2, 879, 61],\n",
        " [16, 22, 2, 879, 61, 30],\n",
        " [16, 22, 2, 879, 61, 30, 48],\n",
        " [16, 22, 2, 879, 61, 30, 48, 634],\n",
        " [25, 311],\n",
        " [25, 311, 635],\n",
        " [25, 311, 635, 102],\n",
        " [25, 311, 635, 102, 200],\n",
        " [25, 311, 635, 102, 200, 25],\n",
        " [25, 311, 635, 102, 200, 25, 278]]\n",
        "```"
      ]
    },
    {
      "cell_type": "markdown",
      "metadata": {
        "id": "dx3V_RjFWQSu"
      },
      "source": [
        "Apply the `n_gram_seqs` transformation to the whole corpus and save the maximum sequence length to use it later:"
      ]
    },
    {
      "cell_type": "code",
      "execution_count": null,
      "metadata": {
        "deletable": false,
        "editable": false,
        "id": "laMwiRUpmuSd",
        "tags": [
          "graded"
        ],
        "colab": {
          "base_uri": "https://localhost:8080/"
        },
        "outputId": "a6f57414-baad-4f13-b265-9d02c4aa6ba4"
      },
      "outputs": [
        {
          "output_type": "stream",
          "name": "stdout",
          "text": [
            "n_grams of input_sequences have length: 15462\n",
            "maximum length of sequences is: 11\n"
          ]
        }
      ],
      "source": [
        "# grader-required-cell\n",
        "\n",
        "# Apply the n_gram_seqs transformation to the whole corpus\n",
        "input_sequences = n_gram_seqs(corpus, tokenizer)\n",
        "\n",
        "# Save max length\n",
        "max_sequence_len = max([len(x) for x in input_sequences])\n",
        "\n",
        "print(f\"n_grams of input_sequences have length: {len(input_sequences)}\")\n",
        "print(f\"maximum length of sequences is: {max_sequence_len}\")"
      ]
    },
    {
      "cell_type": "markdown",
      "metadata": {
        "id": "2OciMdmEdE9L"
      },
      "source": [
        "**Expected Output:**\n",
        "\n",
        "```\n",
        "n_grams of input_sequences have length: 15462\n",
        "maximum length of sequences is: 11\n",
        "```"
      ]
    },
    {
      "cell_type": "markdown",
      "metadata": {
        "id": "zHY7HroqWq12"
      },
      "source": [
        "## Add padding to the sequences\n",
        "\n",
        "Now code the `pad_seqs` function which will pad any given sequences to the desired maximum length. Notice that this function receives a list of sequences and should return a numpy array with the padded sequences:"
      ]
    },
    {
      "cell_type": "code",
      "execution_count": null,
      "metadata": {
        "cellView": "code",
        "deletable": false,
        "id": "WW1-qAZaWOhC",
        "tags": [
          "graded"
        ]
      },
      "outputs": [],
      "source": [
        "# grader-required-cell\n",
        "\n",
        "# GRADED FUNCTION: pad_seqs\n",
        "def pad_seqs(input_sequences, maxlen):\n",
        "    \"\"\"\n",
        "    Pads tokenized sequences to the same length\n",
        "\n",
        "    Args:\n",
        "        input_sequences (list of int): tokenized sequences to pad\n",
        "        maxlen (int): maximum length of the token sequences\n",
        "\n",
        "    Returns:\n",
        "        padded_sequences (array of int): tokenized sequences padded to the same length\n",
        "    \"\"\"\n",
        "    ### START CODE HERE\n",
        "    padded_sequences = None\n",
        "    input_sequences = pad_sequences(input_sequences, maxlen=maxlen, padding='pre')\n",
        "    #xs, labels = input_sequences[:,:-1],input_sequences[:,-1]\n",
        "    #ys = to_categorical(labels, num_classes=total_words)\n",
        "\n",
        "    return input_sequences\n",
        "    ### END CODE HERE"
      ]
    },
    {
      "cell_type": "code",
      "execution_count": null,
      "metadata": {
        "deletable": false,
        "editable": false,
        "id": "IqVQ0pb3YHLr",
        "tags": [
          "graded"
        ],
        "colab": {
          "base_uri": "https://localhost:8080/"
        },
        "outputId": "222a4c25-60c4-45c6-be5e-bb713238582e"
      },
      "outputs": [
        {
          "output_type": "stream",
          "name": "stdout",
          "text": [
            "[[  0   0   0   0  34 417]\n",
            " [  0   0   0  34 417 877]\n",
            " [  0   0  34 417 877 166]\n",
            " [  0  34 417 877 166 213]\n",
            " [ 34 417 877 166 213 517]]\n"
          ]
        }
      ],
      "source": [
        "# grader-required-cell\n",
        "\n",
        "# Test your function with the n_grams_seq of the first example\n",
        "first_padded_seq = pad_seqs(first_example_sequence, max([len(x) for x in first_example_sequence]))\n",
        "print(first_padded_seq)"
      ]
    },
    {
      "cell_type": "markdown",
      "metadata": {
        "id": "Re_avDznXRnU"
      },
      "source": [
        "**Expected Output:**\n",
        "\n",
        "```\n",
        "array([[  0,   0,   0,   0,  34, 417],\n",
        "       [  0,   0,   0,  34, 417, 877],\n",
        "       [  0,   0,  34, 417, 877, 166],\n",
        "       [  0,  34, 417, 877, 166, 213],\n",
        "       [ 34, 417, 877, 166, 213, 517]], dtype=int32)\n",
        "```"
      ]
    },
    {
      "cell_type": "code",
      "execution_count": null,
      "metadata": {
        "deletable": false,
        "editable": false,
        "id": "j56_UCOBYzZt",
        "tags": [
          "graded"
        ],
        "colab": {
          "base_uri": "https://localhost:8080/"
        },
        "outputId": "6ec452e7-81aa-436e-b0ba-eb69ff072e31"
      },
      "outputs": [
        {
          "output_type": "execute_result",
          "data": {
            "text/plain": [
              "array([[  0,   0,   0,   0,   0,   0,   8, 878],\n",
              "       [  0,   0,   0,   0,   0,   8, 878, 134],\n",
              "       [  0,   0,   0,   0,   8, 878, 134, 351],\n",
              "       [  0,   0,   0,   8, 878, 134, 351, 102],\n",
              "       [  0,   0,   8, 878, 134, 351, 102, 156],\n",
              "       [  0,   8, 878, 134, 351, 102, 156, 199],\n",
              "       [  0,   0,   0,   0,   0,   0,  16,  22],\n",
              "       [  0,   0,   0,   0,   0,  16,  22,   2],\n",
              "       [  0,   0,   0,   0,  16,  22,   2, 879],\n",
              "       [  0,   0,   0,  16,  22,   2, 879,  61],\n",
              "       [  0,   0,  16,  22,   2, 879,  61,  30],\n",
              "       [  0,  16,  22,   2, 879,  61,  30,  48],\n",
              "       [ 16,  22,   2, 879,  61,  30,  48, 634],\n",
              "       [  0,   0,   0,   0,   0,   0,  25, 311],\n",
              "       [  0,   0,   0,   0,   0,  25, 311, 635],\n",
              "       [  0,   0,   0,   0,  25, 311, 635, 102],\n",
              "       [  0,   0,   0,  25, 311, 635, 102, 200],\n",
              "       [  0,   0,  25, 311, 635, 102, 200,  25],\n",
              "       [  0,  25, 311, 635, 102, 200,  25, 278]], dtype=int32)"
            ]
          },
          "metadata": {},
          "execution_count": 71
        }
      ],
      "source": [
        "# grader-required-cell\n",
        "\n",
        "# Test your function with the n_grams_seq of the next 3 examples\n",
        "next_3_padded_seq = pad_seqs(next_3_examples_sequence, max([len(s) for s in next_3_examples_sequence]))\n",
        "next_3_padded_seq"
      ]
    },
    {
      "cell_type": "markdown",
      "metadata": {
        "id": "3rmcDluOXcIU"
      },
      "source": [
        "**Expected Output:**\n",
        "\n",
        "```\n",
        "array([[  0,   0,   0,   0,   0,   0,   8, 878],\n",
        "       [  0,   0,   0,   0,   0,   8, 878, 134],\n",
        "       [  0,   0,   0,   0,   8, 878, 134, 351],\n",
        "       [  0,   0,   0,   8, 878, 134, 351, 102],\n",
        "       [  0,   0,   8, 878, 134, 351, 102, 156],\n",
        "       [  0,   8, 878, 134, 351, 102, 156, 199],\n",
        "       [  0,   0,   0,   0,   0,   0,  16,  22],\n",
        "       [  0,   0,   0,   0,   0,  16,  22,   2],\n",
        "       [  0,   0,   0,   0,  16,  22,   2, 879],\n",
        "       [  0,   0,   0,  16,  22,   2, 879,  61],\n",
        "       [  0,   0,  16,  22,   2, 879,  61,  30],\n",
        "       [  0,  16,  22,   2, 879,  61,  30,  48],\n",
        "       [ 16,  22,   2, 879,  61,  30,  48, 634],\n",
        "       [  0,   0,   0,   0,   0,   0,  25, 311],\n",
        "       [  0,   0,   0,   0,   0,  25, 311, 635],\n",
        "       [  0,   0,   0,   0,  25, 311, 635, 102],\n",
        "       [  0,   0,   0,  25, 311, 635, 102, 200],\n",
        "       [  0,   0,  25, 311, 635, 102, 200,  25],\n",
        "       [  0,  25, 311, 635, 102, 200,  25, 278]], dtype=int32)\n",
        "```"
      ]
    },
    {
      "cell_type": "code",
      "execution_count": null,
      "metadata": {
        "deletable": false,
        "editable": false,
        "id": "rgK-Q_micEYA",
        "tags": [
          "graded"
        ],
        "colab": {
          "base_uri": "https://localhost:8080/"
        },
        "outputId": "42877c82-5466-448c-d8ae-e22664d6dc88"
      },
      "outputs": [
        {
          "output_type": "stream",
          "name": "stdout",
          "text": [
            "padded corpus has shape: (15462, 11)\n"
          ]
        }
      ],
      "source": [
        "# grader-required-cell\n",
        "\n",
        "# Pad the whole corpus\n",
        "input_sequences = pad_seqs(input_sequences, max_sequence_len)\n",
        "\n",
        "print(f\"padded corpus has shape: {input_sequences.shape}\")"
      ]
    },
    {
      "cell_type": "markdown",
      "metadata": {
        "id": "59RD1YYNc7CW"
      },
      "source": [
        "**Expected Output:**\n",
        "\n",
        "```\n",
        "padded corpus has shape: (15462, 11)\n",
        "```"
      ]
    },
    {
      "cell_type": "markdown",
      "metadata": {
        "id": "ZbOidyPrXxf7"
      },
      "source": [
        "## Split the data into features and labels\n",
        "\n",
        "Before feeding the data into the neural network you should split it into features and labels. In this case the features will be the padded n_gram sequences with the last word removed from them and the labels will be the removed word.\n",
        "\n",
        "Complete the `features_and_labels` function below. This function expects the padded n_gram sequences as input and should return a tuple containing the features and the one hot encoded labels.\n",
        "\n",
        "Notice that the function also receives the total of words in the corpus, this parameter will be very important when one hot enconding the labels since every word in the corpus will be a label at least once. If you need a refresh of how the `to_categorical` function works take a look at the [docs](https://www.tensorflow.org/api_docs/python/tf/keras/utils/to_categorical)"
      ]
    },
    {
      "cell_type": "code",
      "execution_count": null,
      "metadata": {
        "cellView": "code",
        "deletable": false,
        "id": "9WGGbYdnZdmJ",
        "tags": [
          "graded"
        ]
      },
      "outputs": [],
      "source": [
        "# grader-required-cell\n",
        "\n",
        "# GRADED FUNCTION: features_and_labels\n",
        "def features_and_labels(input_sequences, total_words):\n",
        "    \"\"\"\n",
        "    Generates features and labels from n-grams\n",
        "\n",
        "    Args:\n",
        "        input_sequences (list of int): sequences to split features and labels from\n",
        "        total_words (int): vocabulary size\n",
        "\n",
        "    Returns:\n",
        "        features, one_hot_labels (array of int, array of int): arrays of features and one-hot encoded labels\n",
        "    \"\"\"\n",
        "    ### START CODE HERE\n",
        "    features = None\n",
        "    labels = None\n",
        "    one_hot_labels = None\n",
        "    # Create inputs and label by splitting the last token in the subphrases\n",
        "    features, labels = input_sequences[:,:-1],input_sequences[:,-1]\n",
        "    # Convert the label into one-hot arrays\n",
        "    one_hot_labels = to_categorical(labels, num_classes=total_words)\n",
        "    ### END CODE HERE\n",
        "\n",
        "    return features, one_hot_labels"
      ]
    },
    {
      "cell_type": "code",
      "execution_count": null,
      "metadata": {
        "deletable": false,
        "editable": false,
        "id": "23DolaBRaIAZ",
        "tags": [
          "graded"
        ],
        "colab": {
          "base_uri": "https://localhost:8080/"
        },
        "outputId": "32b5a37b-8a11-4688-d80b-9dc27e21b718"
      },
      "outputs": [
        {
          "output_type": "stream",
          "name": "stdout",
          "text": [
            "labels have shape: (5, 3211)\n",
            "\n",
            "features look like this:\n",
            "\n"
          ]
        },
        {
          "output_type": "execute_result",
          "data": {
            "text/plain": [
              "array([[  0,   0,   0,   0,  34],\n",
              "       [  0,   0,   0,  34, 417],\n",
              "       [  0,   0,  34, 417, 877],\n",
              "       [  0,  34, 417, 877, 166],\n",
              "       [ 34, 417, 877, 166, 213]], dtype=int32)"
            ]
          },
          "metadata": {},
          "execution_count": 74
        }
      ],
      "source": [
        "# grader-required-cell\n",
        "\n",
        "# Test your function with the padded n_grams_seq of the first example\n",
        "first_features, first_labels = features_and_labels(first_padded_seq, total_words)\n",
        "\n",
        "print(f\"labels have shape: {first_labels.shape}\")\n",
        "print(\"\\nfeatures look like this:\\n\")\n",
        "first_features"
      ]
    },
    {
      "cell_type": "markdown",
      "metadata": {
        "id": "7t4yAx2UaQ43"
      },
      "source": [
        "**Expected Output:**\n",
        "\n",
        "```\n",
        "labels have shape: (5, 3211)\n",
        "\n",
        "features look like this:\n",
        "\n",
        "array([[  0,   0,   0,   0,  34],\n",
        "       [  0,   0,   0,  34, 417],\n",
        "       [  0,   0,  34, 417, 877],\n",
        "       [  0,  34, 417, 877, 166],\n",
        "       [ 34, 417, 877, 166, 213]], dtype=int32)\n",
        "```"
      ]
    },
    {
      "cell_type": "code",
      "execution_count": null,
      "metadata": {
        "deletable": false,
        "editable": false,
        "id": "GRTuLEt3bRKa",
        "tags": [
          "graded"
        ],
        "colab": {
          "base_uri": "https://localhost:8080/"
        },
        "outputId": "adc09f01-3d00-4eac-fda4-3a3f605da3b5"
      },
      "outputs": [
        {
          "output_type": "stream",
          "name": "stdout",
          "text": [
            "features have shape: (15462, 10)\n",
            "labels have shape: (15462, 3211)\n"
          ]
        }
      ],
      "source": [
        "# grader-required-cell\n",
        "\n",
        "# Split the whole corpus\n",
        "features, labels = features_and_labels(input_sequences, total_words)\n",
        "\n",
        "print(f\"features have shape: {features.shape}\")\n",
        "print(f\"labels have shape: {labels.shape}\")"
      ]
    },
    {
      "cell_type": "markdown",
      "metadata": {
        "id": "xXSMK_HpdLns"
      },
      "source": [
        "**Expected Output:**\n",
        "\n",
        "```\n",
        "features have shape: (15462, 10)\n",
        "labels have shape: (15462, 3211)\n",
        "```"
      ]
    },
    {
      "cell_type": "markdown",
      "metadata": {
        "id": "ltxaOCE_aU6J"
      },
      "source": [
        "## Create the model\n",
        "\n",
        "Now you should define a model architecture capable of achieving an accuracy of at least 80%.\n",
        "\n",
        "Some hints to help you in this task:\n",
        "\n",
        "- An appropriate `output_dim` for the first layer (Embedding) is 100, this is already provided for you.\n",
        "- A Bidirectional LSTM is helpful for this particular problem.\n",
        "- The last layer should have the same number of units as the total number of words in the corpus and a softmax activation function.\n",
        "- This problem can be solved with only two layers (excluding the Embedding) so try out small architectures first."
      ]
    },
    {
      "cell_type": "code",
      "execution_count": null,
      "metadata": {
        "cellView": "code",
        "deletable": false,
        "id": "XrE6kpJFfvRY",
        "tags": [
          "graded"
        ]
      },
      "outputs": [],
      "source": [
        "# grader-required-cell\n",
        "\n",
        "# GRADED FUNCTION: create_model\n",
        "def create_model(total_words, max_sequence_len):\n",
        "    \"\"\"\n",
        "    Creates a text generator model\n",
        "\n",
        "    Args:\n",
        "        total_words (int): size of the vocabulary for the Embedding layer input\n",
        "        max_sequence_len (int): length of the input sequences\n",
        "\n",
        "    Returns:\n",
        "        model (tf.keras Model): the text generator model\n",
        "    \"\"\"\n",
        "    #model = Sequential()\n",
        "    ### START CODE HERE\n",
        "    model=Sequential([Embedding(total_words, 100, input_length=max_sequence_len-1),\n",
        "          Bidirectional(LSTM(150)),\n",
        "          Dense(total_words, activation='softmax')])\n",
        "    # Compile the model\n",
        "    model.compile(loss='categorical_crossentropy',\n",
        "          optimizer=Adam(learning_rate=0.005),\n",
        "          metrics=['accuracy'])\n",
        "    ### END CODE HERE\n",
        "\n",
        "    return model"
      ]
    },
    {
      "cell_type": "code",
      "execution_count": null,
      "metadata": {
        "id": "0IpX_Gu_gISk",
        "tags": [],
        "colab": {
          "base_uri": "https://localhost:8080/"
        },
        "outputId": "60722748-f74d-4d11-bb40-bea86da6b4ca"
      },
      "outputs": [
        {
          "output_type": "stream",
          "name": "stdout",
          "text": [
            "Epoch 1/200\n",
            "484/484 [==============================] - 18s 27ms/step - loss: 6.8045 - accuracy: 0.0283\n",
            "Epoch 2/200\n",
            "484/484 [==============================] - 4s 8ms/step - loss: 6.1884 - accuracy: 0.0524\n",
            "Epoch 3/200\n",
            "484/484 [==============================] - 4s 9ms/step - loss: 5.5688 - accuracy: 0.0776\n",
            "Epoch 4/200\n",
            "484/484 [==============================] - 5s 10ms/step - loss: 4.7353 - accuracy: 0.1257\n",
            "Epoch 5/200\n",
            "484/484 [==============================] - 4s 8ms/step - loss: 3.7087 - accuracy: 0.2393\n",
            "Epoch 6/200\n",
            "484/484 [==============================] - 4s 9ms/step - loss: 2.7300 - accuracy: 0.4149\n",
            "Epoch 7/200\n",
            "484/484 [==============================] - 5s 10ms/step - loss: 2.0088 - accuracy: 0.5588\n",
            "Epoch 8/200\n",
            "484/484 [==============================] - 4s 9ms/step - loss: 1.5062 - accuracy: 0.6709\n",
            "Epoch 9/200\n",
            "484/484 [==============================] - 5s 10ms/step - loss: 1.1763 - accuracy: 0.7440\n",
            "Epoch 10/200\n",
            "484/484 [==============================] - 5s 10ms/step - loss: 0.9622 - accuracy: 0.7938\n",
            "Epoch 11/200\n",
            "484/484 [==============================] - 4s 8ms/step - loss: 0.8377 - accuracy: 0.8173\n",
            "Epoch 12/200\n",
            "484/484 [==============================] - 4s 8ms/step - loss: 0.7569 - accuracy: 0.8330\n",
            "Epoch 13/200\n",
            "484/484 [==============================] - 5s 9ms/step - loss: 0.7174 - accuracy: 0.8379\n",
            "Epoch 14/200\n",
            "484/484 [==============================] - 4s 9ms/step - loss: 0.7113 - accuracy: 0.8383\n",
            "Epoch 15/200\n",
            "484/484 [==============================] - 4s 9ms/step - loss: 0.8813 - accuracy: 0.7884\n",
            "Epoch 16/200\n",
            "484/484 [==============================] - 4s 9ms/step - loss: 1.1367 - accuracy: 0.7132\n",
            "Epoch 17/200\n",
            "484/484 [==============================] - 4s 8ms/step - loss: 0.8345 - accuracy: 0.7925\n",
            "Epoch 18/200\n",
            "484/484 [==============================] - 4s 8ms/step - loss: 0.6814 - accuracy: 0.8362\n",
            "Epoch 19/200\n",
            "484/484 [==============================] - 5s 10ms/step - loss: 0.6274 - accuracy: 0.8476\n",
            "Epoch 20/200\n",
            "484/484 [==============================] - 4s 8ms/step - loss: 0.6113 - accuracy: 0.8475\n",
            "Epoch 21/200\n",
            "484/484 [==============================] - 4s 9ms/step - loss: 0.6075 - accuracy: 0.8472\n",
            "Epoch 22/200\n",
            "484/484 [==============================] - 5s 10ms/step - loss: 0.6041 - accuracy: 0.8474\n",
            "Epoch 23/200\n",
            "484/484 [==============================] - 4s 9ms/step - loss: 0.6042 - accuracy: 0.8463\n",
            "Epoch 24/200\n",
            "484/484 [==============================] - 5s 11ms/step - loss: 0.6424 - accuracy: 0.8370\n",
            "Epoch 25/200\n",
            "484/484 [==============================] - 4s 9ms/step - loss: 1.5762 - accuracy: 0.5964\n",
            "Epoch 26/200\n",
            "484/484 [==============================] - 4s 8ms/step - loss: 1.1038 - accuracy: 0.7112\n",
            "Epoch 27/200\n",
            "484/484 [==============================] - 5s 10ms/step - loss: 0.7280 - accuracy: 0.8135\n",
            "Epoch 28/200\n",
            "484/484 [==============================] - 4s 8ms/step - loss: 0.6192 - accuracy: 0.8421\n",
            "Epoch 29/200\n",
            "484/484 [==============================] - 4s 8ms/step - loss: 0.5910 - accuracy: 0.8490\n",
            "Epoch 30/200\n",
            "484/484 [==============================] - 5s 10ms/step - loss: 0.5811 - accuracy: 0.8489\n",
            "Epoch 31/200\n",
            "484/484 [==============================] - 4s 8ms/step - loss: 0.5742 - accuracy: 0.8487\n",
            "Epoch 32/200\n",
            "484/484 [==============================] - 4s 8ms/step - loss: 0.5721 - accuracy: 0.8501\n",
            "Epoch 33/200\n",
            "484/484 [==============================] - 5s 10ms/step - loss: 0.5743 - accuracy: 0.8495\n",
            "Epoch 34/200\n",
            "484/484 [==============================] - 4s 8ms/step - loss: 0.5798 - accuracy: 0.8484\n",
            "Epoch 35/200\n",
            "484/484 [==============================] - 4s 8ms/step - loss: 0.8605 - accuracy: 0.7745\n",
            "Epoch 36/200\n",
            "484/484 [==============================] - 5s 11ms/step - loss: 1.6313 - accuracy: 0.5876\n",
            "Epoch 37/200\n",
            "484/484 [==============================] - 4s 8ms/step - loss: 0.9164 - accuracy: 0.7559\n",
            "Epoch 38/200\n",
            "484/484 [==============================] - 4s 8ms/step - loss: 0.6787 - accuracy: 0.8230\n",
            "Epoch 39/200\n",
            "484/484 [==============================] - 5s 10ms/step - loss: 0.6068 - accuracy: 0.8434\n",
            "Epoch 40/200\n",
            "484/484 [==============================] - 4s 8ms/step - loss: 0.5746 - accuracy: 0.8499\n",
            "Epoch 41/200\n",
            "484/484 [==============================] - 4s 8ms/step - loss: 0.5655 - accuracy: 0.8497\n",
            "Epoch 42/200\n",
            "484/484 [==============================] - 5s 10ms/step - loss: 0.5655 - accuracy: 0.8492\n",
            "Epoch 43/200\n",
            "484/484 [==============================] - 4s 8ms/step - loss: 0.5611 - accuracy: 0.8498\n",
            "Epoch 44/200\n",
            "484/484 [==============================] - 4s 9ms/step - loss: 0.5590 - accuracy: 0.8498\n",
            "Epoch 45/200\n",
            "484/484 [==============================] - 5s 10ms/step - loss: 0.5686 - accuracy: 0.8486\n",
            "Epoch 46/200\n",
            "484/484 [==============================] - 4s 9ms/step - loss: 1.2306 - accuracy: 0.6867\n",
            "Epoch 47/200\n",
            "484/484 [==============================] - 4s 8ms/step - loss: 1.4026 - accuracy: 0.6400\n",
            "Epoch 48/200\n",
            "484/484 [==============================] - 5s 10ms/step - loss: 0.8608 - accuracy: 0.7665\n",
            "Epoch 49/200\n",
            "484/484 [==============================] - 4s 9ms/step - loss: 0.6635 - accuracy: 0.8247\n",
            "Epoch 50/200\n",
            "484/484 [==============================] - 5s 9ms/step - loss: 0.5900 - accuracy: 0.8459\n",
            "Epoch 51/200\n",
            "484/484 [==============================] - 5s 10ms/step - loss: 0.5664 - accuracy: 0.8496\n",
            "Epoch 52/200\n",
            "484/484 [==============================] - 4s 8ms/step - loss: 0.5593 - accuracy: 0.8502\n",
            "Epoch 53/200\n",
            "484/484 [==============================] - 5s 9ms/step - loss: 0.5554 - accuracy: 0.8482\n",
            "Epoch 54/200\n",
            "484/484 [==============================] - 5s 10ms/step - loss: 0.5515 - accuracy: 0.8492\n",
            "Epoch 55/200\n",
            "484/484 [==============================] - 4s 8ms/step - loss: 0.5531 - accuracy: 0.8488\n",
            "Epoch 56/200\n",
            "484/484 [==============================] - 5s 10ms/step - loss: 0.5624 - accuracy: 0.8476\n",
            "Epoch 57/200\n",
            "484/484 [==============================] - 4s 9ms/step - loss: 1.1053 - accuracy: 0.7176\n",
            "Epoch 58/200\n",
            "484/484 [==============================] - 4s 9ms/step - loss: 1.4119 - accuracy: 0.6318\n",
            "Epoch 59/200\n",
            "484/484 [==============================] - 5s 10ms/step - loss: 0.8754 - accuracy: 0.7632\n",
            "Epoch 60/200\n",
            "484/484 [==============================] - 4s 9ms/step - loss: 0.6698 - accuracy: 0.8229\n",
            "Epoch 61/200\n",
            "484/484 [==============================] - 4s 8ms/step - loss: 0.6001 - accuracy: 0.8412\n",
            "Epoch 62/200\n",
            "484/484 [==============================] - 5s 10ms/step - loss: 0.5778 - accuracy: 0.8470\n",
            "Epoch 63/200\n",
            "484/484 [==============================] - 4s 9ms/step - loss: 0.5587 - accuracy: 0.8500\n",
            "Epoch 64/200\n",
            "484/484 [==============================] - 4s 9ms/step - loss: 0.5544 - accuracy: 0.8489\n",
            "Epoch 65/200\n",
            "484/484 [==============================] - 5s 10ms/step - loss: 0.5533 - accuracy: 0.8496\n",
            "Epoch 66/200\n",
            "484/484 [==============================] - 4s 9ms/step - loss: 0.5473 - accuracy: 0.8504\n",
            "Epoch 67/200\n",
            "484/484 [==============================] - 5s 10ms/step - loss: 0.5463 - accuracy: 0.8485\n",
            "Epoch 68/200\n",
            "484/484 [==============================] - 5s 9ms/step - loss: 0.5486 - accuracy: 0.8485\n",
            "Epoch 69/200\n",
            "484/484 [==============================] - 4s 9ms/step - loss: 0.9199 - accuracy: 0.7601\n",
            "Epoch 70/200\n",
            "484/484 [==============================] - 5s 10ms/step - loss: 1.6179 - accuracy: 0.5966\n",
            "Epoch 71/200\n",
            "484/484 [==============================] - 5s 10ms/step - loss: 0.9766 - accuracy: 0.7366\n",
            "Epoch 72/200\n",
            "484/484 [==============================] - 4s 9ms/step - loss: 0.6970 - accuracy: 0.8113\n",
            "Epoch 73/200\n",
            "484/484 [==============================] - 5s 11ms/step - loss: 0.6006 - accuracy: 0.8399\n",
            "Epoch 74/200\n",
            "484/484 [==============================] - 4s 9ms/step - loss: 0.5676 - accuracy: 0.8476\n",
            "Epoch 75/200\n",
            "484/484 [==============================] - 4s 8ms/step - loss: 0.5552 - accuracy: 0.8496\n",
            "Epoch 76/200\n",
            "484/484 [==============================] - 5s 10ms/step - loss: 0.5487 - accuracy: 0.8497\n",
            "Epoch 77/200\n",
            "484/484 [==============================] - 4s 8ms/step - loss: 0.5458 - accuracy: 0.8490\n",
            "Epoch 78/200\n",
            "484/484 [==============================] - 4s 8ms/step - loss: 0.5469 - accuracy: 0.8494\n",
            "Epoch 79/200\n",
            "484/484 [==============================] - 5s 10ms/step - loss: 0.5432 - accuracy: 0.8509\n",
            "Epoch 80/200\n",
            "484/484 [==============================] - 4s 9ms/step - loss: 0.5472 - accuracy: 0.8486\n",
            "Epoch 81/200\n",
            "484/484 [==============================] - 5s 10ms/step - loss: 1.0448 - accuracy: 0.7315\n",
            "Epoch 82/200\n",
            "484/484 [==============================] - 5s 10ms/step - loss: 1.5674 - accuracy: 0.6137\n",
            "Epoch 83/200\n",
            "484/484 [==============================] - 4s 9ms/step - loss: 0.9602 - accuracy: 0.7401\n",
            "Epoch 84/200\n",
            "484/484 [==============================] - 5s 10ms/step - loss: 0.7059 - accuracy: 0.8099\n",
            "Epoch 85/200\n",
            "484/484 [==============================] - 4s 9ms/step - loss: 0.6101 - accuracy: 0.8393\n",
            "Epoch 86/200\n",
            "484/484 [==============================] - 4s 9ms/step - loss: 0.5761 - accuracy: 0.8458\n",
            "Epoch 87/200\n",
            "484/484 [==============================] - 5s 10ms/step - loss: 0.5586 - accuracy: 0.8492\n",
            "Epoch 88/200\n",
            "484/484 [==============================] - 4s 9ms/step - loss: 0.5477 - accuracy: 0.8500\n",
            "Epoch 89/200\n",
            "484/484 [==============================] - 4s 9ms/step - loss: 0.5448 - accuracy: 0.8497\n",
            "Epoch 90/200\n",
            "484/484 [==============================] - 5s 11ms/step - loss: 0.5429 - accuracy: 0.8499\n",
            "Epoch 91/200\n",
            "484/484 [==============================] - 4s 9ms/step - loss: 0.5397 - accuracy: 0.8501\n",
            "Epoch 92/200\n",
            "484/484 [==============================] - 5s 9ms/step - loss: 0.5441 - accuracy: 0.8490\n",
            "Epoch 93/200\n",
            "484/484 [==============================] - 5s 10ms/step - loss: 0.9153 - accuracy: 0.7582\n",
            "Epoch 94/200\n",
            "484/484 [==============================] - 4s 9ms/step - loss: 1.4390 - accuracy: 0.6340\n",
            "Epoch 95/200\n",
            "484/484 [==============================] - 5s 10ms/step - loss: 0.9394 - accuracy: 0.7416\n",
            "Epoch 96/200\n",
            "484/484 [==============================] - 4s 9ms/step - loss: 0.7133 - accuracy: 0.8053\n",
            "Epoch 97/200\n",
            "484/484 [==============================] - 4s 9ms/step - loss: 0.6132 - accuracy: 0.8335\n",
            "Epoch 98/200\n",
            "484/484 [==============================] - 5s 10ms/step - loss: 0.5751 - accuracy: 0.8455\n",
            "Epoch 99/200\n",
            "484/484 [==============================] - 4s 9ms/step - loss: 0.5591 - accuracy: 0.8476\n",
            "Epoch 100/200\n",
            "484/484 [==============================] - 4s 9ms/step - loss: 0.5520 - accuracy: 0.8487\n",
            "Epoch 101/200\n",
            "484/484 [==============================] - 5s 11ms/step - loss: 0.5489 - accuracy: 0.8485\n",
            "Epoch 102/200\n",
            "484/484 [==============================] - 4s 9ms/step - loss: 0.5530 - accuracy: 0.8470\n",
            "Epoch 103/200\n",
            "484/484 [==============================] - 5s 10ms/step - loss: 0.6679 - accuracy: 0.8170\n",
            "Epoch 104/200\n",
            "484/484 [==============================] - 5s 10ms/step - loss: 1.1602 - accuracy: 0.6942\n",
            "Epoch 105/200\n",
            "484/484 [==============================] - 4s 9ms/step - loss: 0.9636 - accuracy: 0.7371\n",
            "Epoch 106/200\n",
            "484/484 [==============================] - 5s 10ms/step - loss: 0.7189 - accuracy: 0.8014\n",
            "Epoch 107/200\n",
            "484/484 [==============================] - 5s 10ms/step - loss: 0.6240 - accuracy: 0.8296\n",
            "Epoch 108/200\n",
            "484/484 [==============================] - 5s 9ms/step - loss: 0.5749 - accuracy: 0.8448\n",
            "Epoch 109/200\n",
            "484/484 [==============================] - 5s 11ms/step - loss: 0.5581 - accuracy: 0.8478\n",
            "Epoch 110/200\n",
            "484/484 [==============================] - 4s 9ms/step - loss: 0.5430 - accuracy: 0.8492\n",
            "Epoch 111/200\n",
            "484/484 [==============================] - 4s 9ms/step - loss: 0.5376 - accuracy: 0.8495\n",
            "Epoch 112/200\n",
            "484/484 [==============================] - 5s 11ms/step - loss: 0.5339 - accuracy: 0.8492\n",
            "Epoch 113/200\n",
            "484/484 [==============================] - 4s 9ms/step - loss: 0.5301 - accuracy: 0.8500\n",
            "Epoch 114/200\n",
            "484/484 [==============================] - 5s 10ms/step - loss: 0.5294 - accuracy: 0.8509\n",
            "Epoch 115/200\n",
            "484/484 [==============================] - 5s 10ms/step - loss: 0.5373 - accuracy: 0.8478\n",
            "Epoch 116/200\n",
            "484/484 [==============================] - 4s 9ms/step - loss: 1.0430 - accuracy: 0.7315\n",
            "Epoch 117/200\n",
            "484/484 [==============================] - 5s 11ms/step - loss: 1.3427 - accuracy: 0.6594\n",
            "Epoch 118/200\n",
            "484/484 [==============================] - 4s 9ms/step - loss: 0.8713 - accuracy: 0.7609\n",
            "Epoch 119/200\n",
            "484/484 [==============================] - 4s 9ms/step - loss: 0.6784 - accuracy: 0.8136\n",
            "Epoch 120/200\n",
            "484/484 [==============================] - 5s 10ms/step - loss: 0.5988 - accuracy: 0.8396\n",
            "Epoch 121/200\n",
            "484/484 [==============================] - 4s 9ms/step - loss: 0.5714 - accuracy: 0.8445\n",
            "Epoch 122/200\n",
            "484/484 [==============================] - 4s 9ms/step - loss: 0.5576 - accuracy: 0.8470\n",
            "Epoch 123/200\n",
            "484/484 [==============================] - 5s 11ms/step - loss: 0.5643 - accuracy: 0.8454\n",
            "Epoch 124/200\n",
            "484/484 [==============================] - 4s 9ms/step - loss: 0.5623 - accuracy: 0.8461\n",
            "Epoch 125/200\n",
            "484/484 [==============================] - 5s 10ms/step - loss: 0.6087 - accuracy: 0.8327\n",
            "Epoch 126/200\n",
            "484/484 [==============================] - 5s 10ms/step - loss: 0.7951 - accuracy: 0.7770\n",
            "Epoch 127/200\n",
            "484/484 [==============================] - 4s 9ms/step - loss: 0.8907 - accuracy: 0.7577\n",
            "Epoch 128/200\n",
            "484/484 [==============================] - 5s 11ms/step - loss: 0.7943 - accuracy: 0.7782\n",
            "Epoch 129/200\n",
            "484/484 [==============================] - 4s 9ms/step - loss: 0.6754 - accuracy: 0.8146\n",
            "Epoch 130/200\n",
            "484/484 [==============================] - 4s 9ms/step - loss: 0.6054 - accuracy: 0.8335\n",
            "Epoch 131/200\n",
            "484/484 [==============================] - 5s 11ms/step - loss: 0.5834 - accuracy: 0.8388\n",
            "Epoch 132/200\n",
            "484/484 [==============================] - 4s 9ms/step - loss: 0.5847 - accuracy: 0.8377\n",
            "Epoch 133/200\n",
            "484/484 [==============================] - 5s 10ms/step - loss: 0.5781 - accuracy: 0.8403\n",
            "Epoch 134/200\n",
            "484/484 [==============================] - 5s 10ms/step - loss: 0.5938 - accuracy: 0.8368\n",
            "Epoch 135/200\n",
            "484/484 [==============================] - 4s 9ms/step - loss: 0.6457 - accuracy: 0.8208\n",
            "Epoch 136/200\n",
            "484/484 [==============================] - 5s 11ms/step - loss: 0.7140 - accuracy: 0.8035\n",
            "Epoch 137/200\n",
            "484/484 [==============================] - 5s 9ms/step - loss: 0.7210 - accuracy: 0.8020\n",
            "Epoch 138/200\n",
            "484/484 [==============================] - 5s 9ms/step - loss: 0.6881 - accuracy: 0.8091\n",
            "Epoch 139/200\n",
            "484/484 [==============================] - 5s 11ms/step - loss: 0.6246 - accuracy: 0.8263\n",
            "Epoch 140/200\n",
            "484/484 [==============================] - 4s 9ms/step - loss: 0.5974 - accuracy: 0.8346\n",
            "Epoch 141/200\n",
            "484/484 [==============================] - 4s 9ms/step - loss: 0.5869 - accuracy: 0.8379\n",
            "Epoch 142/200\n",
            "484/484 [==============================] - 5s 11ms/step - loss: 0.5860 - accuracy: 0.8377\n",
            "Epoch 143/200\n",
            "484/484 [==============================] - 4s 9ms/step - loss: 0.5948 - accuracy: 0.8353\n",
            "Epoch 144/200\n",
            "484/484 [==============================] - 5s 10ms/step - loss: 0.6236 - accuracy: 0.8272\n",
            "Epoch 145/200\n",
            "484/484 [==============================] - 5s 10ms/step - loss: 0.6995 - accuracy: 0.8050\n",
            "Epoch 146/200\n",
            "484/484 [==============================] - 5s 9ms/step - loss: 0.7046 - accuracy: 0.8025\n",
            "Epoch 147/200\n",
            "484/484 [==============================] - 5s 11ms/step - loss: 0.6626 - accuracy: 0.8165\n",
            "Epoch 148/200\n",
            "484/484 [==============================] - 4s 9ms/step - loss: 0.6299 - accuracy: 0.8215\n",
            "Epoch 149/200\n",
            "484/484 [==============================] - 4s 9ms/step - loss: 0.6025 - accuracy: 0.8316\n",
            "Epoch 150/200\n",
            "484/484 [==============================] - 5s 11ms/step - loss: 0.5793 - accuracy: 0.8394\n",
            "Epoch 151/200\n",
            "484/484 [==============================] - 5s 10ms/step - loss: 0.5744 - accuracy: 0.8399\n",
            "Epoch 152/200\n",
            "484/484 [==============================] - 5s 10ms/step - loss: 0.5689 - accuracy: 0.8393\n",
            "Epoch 153/200\n",
            "484/484 [==============================] - 5s 10ms/step - loss: 0.6049 - accuracy: 0.8326\n",
            "Epoch 154/200\n",
            "484/484 [==============================] - 4s 9ms/step - loss: 0.6547 - accuracy: 0.8174\n",
            "Epoch 155/200\n",
            "484/484 [==============================] - 5s 11ms/step - loss: 0.6739 - accuracy: 0.8125\n",
            "Epoch 156/200\n",
            "484/484 [==============================] - 4s 9ms/step - loss: 0.6513 - accuracy: 0.8187\n",
            "Epoch 157/200\n",
            "484/484 [==============================] - 4s 9ms/step - loss: 0.6225 - accuracy: 0.8269\n",
            "Epoch 158/200\n",
            "484/484 [==============================] - 5s 11ms/step - loss: 0.6279 - accuracy: 0.8263\n",
            "Epoch 159/200\n",
            "484/484 [==============================] - 4s 9ms/step - loss: 0.6158 - accuracy: 0.8274\n",
            "Epoch 160/200\n",
            "484/484 [==============================] - 5s 9ms/step - loss: 0.6031 - accuracy: 0.8321\n",
            "Epoch 161/200\n",
            "484/484 [==============================] - 5s 10ms/step - loss: 0.5891 - accuracy: 0.8360\n",
            "Epoch 162/200\n",
            "484/484 [==============================] - 4s 9ms/step - loss: 0.5769 - accuracy: 0.8386\n",
            "Epoch 163/200\n",
            "484/484 [==============================] - 5s 10ms/step - loss: 0.5909 - accuracy: 0.8337\n",
            "Epoch 164/200\n",
            "484/484 [==============================] - 5s 10ms/step - loss: 0.6108 - accuracy: 0.8305\n",
            "Epoch 165/200\n",
            "484/484 [==============================] - 4s 9ms/step - loss: 0.6398 - accuracy: 0.8223\n",
            "Epoch 166/200\n",
            "484/484 [==============================] - 5s 10ms/step - loss: 0.6607 - accuracy: 0.8178\n",
            "Epoch 167/200\n",
            "484/484 [==============================] - 4s 9ms/step - loss: 0.6556 - accuracy: 0.8159\n",
            "Epoch 168/200\n",
            "484/484 [==============================] - 4s 9ms/step - loss: 0.6269 - accuracy: 0.8262\n",
            "Epoch 169/200\n",
            "484/484 [==============================] - 5s 11ms/step - loss: 0.5922 - accuracy: 0.8366\n",
            "Epoch 170/200\n",
            "484/484 [==============================] - 5s 9ms/step - loss: 0.5873 - accuracy: 0.8356\n",
            "Epoch 171/200\n",
            "484/484 [==============================] - 5s 9ms/step - loss: 0.5955 - accuracy: 0.8337\n",
            "Epoch 172/200\n",
            "484/484 [==============================] - 5s 11ms/step - loss: 0.5977 - accuracy: 0.8306\n",
            "Epoch 173/200\n",
            "484/484 [==============================] - 4s 9ms/step - loss: 0.6050 - accuracy: 0.8317\n",
            "Epoch 174/200\n",
            "484/484 [==============================] - 5s 11ms/step - loss: 0.6126 - accuracy: 0.8294\n",
            "Epoch 175/200\n",
            "484/484 [==============================] - 5s 10ms/step - loss: 0.6285 - accuracy: 0.8232\n",
            "Epoch 176/200\n",
            "484/484 [==============================] - 5s 10ms/step - loss: 0.6169 - accuracy: 0.8285\n",
            "Epoch 177/200\n",
            "484/484 [==============================] - 5s 11ms/step - loss: 0.6271 - accuracy: 0.8260\n",
            "Epoch 178/200\n",
            "484/484 [==============================] - 4s 9ms/step - loss: 0.6389 - accuracy: 0.8209\n",
            "Epoch 179/200\n",
            "484/484 [==============================] - 5s 10ms/step - loss: 0.6267 - accuracy: 0.8243\n",
            "Epoch 180/200\n",
            "484/484 [==============================] - 5s 11ms/step - loss: 0.6122 - accuracy: 0.8275\n",
            "Epoch 181/200\n",
            "484/484 [==============================] - 5s 10ms/step - loss: 0.6007 - accuracy: 0.8293\n",
            "Epoch 182/200\n",
            "484/484 [==============================] - 6s 11ms/step - loss: 0.5986 - accuracy: 0.8331\n",
            "Epoch 183/200\n",
            "484/484 [==============================] - 5s 9ms/step - loss: 0.6043 - accuracy: 0.8332\n",
            "Epoch 184/200\n",
            "484/484 [==============================] - 5s 9ms/step - loss: 0.5946 - accuracy: 0.8339\n",
            "Epoch 185/200\n",
            "484/484 [==============================] - 5s 11ms/step - loss: 0.5950 - accuracy: 0.8314\n",
            "Epoch 186/200\n",
            "484/484 [==============================] - 5s 9ms/step - loss: 0.6011 - accuracy: 0.8325\n",
            "Epoch 187/200\n",
            "484/484 [==============================] - 5s 10ms/step - loss: 0.5954 - accuracy: 0.8343\n",
            "Epoch 188/200\n",
            "484/484 [==============================] - 5s 10ms/step - loss: 0.6008 - accuracy: 0.8318\n",
            "Epoch 189/200\n",
            "484/484 [==============================] - 5s 9ms/step - loss: 0.6080 - accuracy: 0.8291\n",
            "Epoch 190/200\n",
            "484/484 [==============================] - 5s 11ms/step - loss: 0.6150 - accuracy: 0.8279\n",
            "Epoch 191/200\n",
            "484/484 [==============================] - 5s 10ms/step - loss: 0.6265 - accuracy: 0.8241\n",
            "Epoch 192/200\n",
            "484/484 [==============================] - 5s 9ms/step - loss: 0.6169 - accuracy: 0.8254\n",
            "Epoch 193/200\n",
            "484/484 [==============================] - 5s 11ms/step - loss: 0.6013 - accuracy: 0.8301\n",
            "Epoch 194/200\n",
            "484/484 [==============================] - 5s 10ms/step - loss: 0.6002 - accuracy: 0.8307\n",
            "Epoch 195/200\n",
            "484/484 [==============================] - 5s 11ms/step - loss: 0.5973 - accuracy: 0.8309\n",
            "Epoch 196/200\n",
            "484/484 [==============================] - 5s 10ms/step - loss: 0.6022 - accuracy: 0.8306\n",
            "Epoch 197/200\n",
            "484/484 [==============================] - 5s 9ms/step - loss: 0.6052 - accuracy: 0.8296\n",
            "Epoch 198/200\n",
            "484/484 [==============================] - 5s 11ms/step - loss: 0.6092 - accuracy: 0.8271\n",
            "Epoch 199/200\n",
            "484/484 [==============================] - 4s 9ms/step - loss: 0.6145 - accuracy: 0.8258\n",
            "Epoch 200/200\n",
            "484/484 [==============================] - 5s 9ms/step - loss: 0.6162 - accuracy: 0.8272\n"
          ]
        }
      ],
      "source": [
        "# Get the untrained model\n",
        "model = create_model(total_words, max_sequence_len)\n",
        "\n",
        "# Train the model\n",
        "history = model.fit(features, labels, epochs=200, verbose=1)"
      ]
    },
    {
      "cell_type": "markdown",
      "metadata": {
        "id": "gy72RPgly55q"
      },
      "source": [
        "**To pass this assignment, your model should achieve a training accuracy of at least 80%**. If your model didn't achieve this threshold, try training again with a different model architecture, consider increasing the number of unit in your `LSTM` layer."
      ]
    },
    {
      "cell_type": "code",
      "execution_count": null,
      "metadata": {
        "id": "1fXTEO3GJ282",
        "tags": [],
        "colab": {
          "base_uri": "https://localhost:8080/",
          "height": 887
        },
        "outputId": "1ab1f651-f23c-47d3-c8bb-5f1d94c662f0"
      },
      "outputs": [
        {
          "output_type": "display_data",
          "data": {
            "text/plain": [
              "<Figure size 640x480 with 1 Axes>"
            ],
            "image/png": "[encoded data removed]"
          },
          "metadata": {}
        },
        {
          "output_type": "display_data",
          "data": {
            "text/plain": [
              "<Figure size 640x480 with 1 Axes>"
            ],
            "image/png": "[encoded data removed]"
          },
          "metadata": {}
        }
      ],
      "source": [
        "# Take a look at the training curves of your model\n",
        "\n",
        "acc = history.history['accuracy']\n",
        "loss = history.history['loss']\n",
        "\n",
        "epochs = range(len(acc))\n",
        "\n",
        "plt.plot(epochs, acc, 'b', label='Training accuracy')\n",
        "plt.title('Training accuracy')\n",
        "\n",
        "plt.figure()\n",
        "\n",
        "plt.plot(epochs, loss, 'b', label='Training Loss')\n",
        "plt.title('Training loss')\n",
        "plt.legend()\n",
        "\n",
        "plt.show()"
      ]
    },
    {
      "cell_type": "markdown",
      "metadata": {
        "id": "OjvED5A3qrn2"
      },
      "source": [
        "Before closing the assignment, be sure to also download the `history.pkl` file which contains the information of the training history of your model and will be used to compute your grade. You can download this file by running the cell below:"
      ]
    },
    {
      "cell_type": "code",
      "execution_count": null,
      "metadata": {
        "id": "9QRG73l6qE-c",
        "tags": [],
        "colab": {
          "base_uri": "https://localhost:8080/",
          "height": 17
        },
        "outputId": "98653b6d-bd8b-483c-b81c-4b5ec3310965"
      },
      "outputs": [
        {
          "output_type": "display_data",
          "data": {
            "text/plain": [
              "<IPython.core.display.Javascript object>"
            ],
            "application/javascript": [
              "\n",
              "    async function download(id, filename, size) {\n",
              "      if (!google.colab.kernel.accessAllowed) {\n",
              "        return;\n",
              "      }\n",
              "      const div = document.createElement('div');\n",
              "      const label = document.createElement('label');\n",
              "      label.textContent = `Downloading \"${filename}\": `;\n",
              "      div.appendChild(label);\n",
              "      const progress = document.createElement('progress');\n",
              "      progress.max = size;\n",
              "      div.appendChild(progress);\n",
              "      document.body.appendChild(div);\n",
              "\n",
              "      const buffers = [];\n",
              "      let downloaded = 0;\n",
              "\n",
              "      const channel = await google.colab.kernel.comms.open(id);\n",
              "      // Send a message to notify the kernel that we're ready.\n",
              "      channel.send({})\n",
              "\n",
              "      for await (const message of channel.messages) {\n",
              "        // Send a message to notify the kernel that we're ready.\n",
              "        channel.send({})\n",
              "        if (message.buffers) {\n",
              "          for (const buffer of message.buffers) {\n",
              "            buffers.push(buffer);\n",
              "            downloaded += buffer.byteLength;\n",
              "            progress.value = downloaded;\n",
              "          }\n",
              "        }\n",
              "      }\n",
              "      const blob = new Blob(buffers, {type: 'application/binary'});\n",
              "      const a = document.createElement('a');\n",
              "      a.href = window.URL.createObjectURL(blob);\n",
              "      a.download = filename;\n",
              "      div.appendChild(a);\n",
              "      a.click();\n",
              "      div.remove();\n",
              "    }\n",
              "  "
            ]
          },
          "metadata": {}
        },
        {
          "output_type": "display_data",
          "data": {
            "text/plain": [
              "<IPython.core.display.Javascript object>"
            ],
            "application/javascript": [
              "download(\"download_814f604a-699f-4ac9-b4af-ca136b14ec99\", \"history.pkl\", 3642)"
            ]
          },
          "metadata": {}
        }
      ],
      "source": [
        "def download_history():\n",
        "  import pickle\n",
        "  from google.colab import files\n",
        "\n",
        "  with open('history.pkl', 'wb') as f:\n",
        "    pickle.dump(history.history, f)\n",
        "\n",
        "  files.download('history.pkl')\n",
        "\n",
        "download_history()"
      ]
    },
    {
      "cell_type": "markdown",
      "metadata": {
        "id": "wdsMszk9zBs_"
      },
      "source": [
        "## See your model in action\n",
        "\n",
        "After all your work it is finally time to see your model generating text.\n",
        "\n",
        "Run the cell below to generate the next 100 words of a seed text.\n",
        "\n",
        "After submitting your assignment you are encouraged to try out training for different amounts of epochs and seeing how this affects the coherency of the generated text. Also try changing the seed text to see what you get!"
      ]
    },
    {
      "cell_type": "code",
      "execution_count": null,
      "metadata": {
        "id": "6Vc6PHgxa6Hm",
        "tags": [],
        "colab": {
          "base_uri": "https://localhost:8080/"
        },
        "outputId": "ee985d00-1e60-40f0-a8bb-60dfc587f693"
      },
      "outputs": [
        {
          "output_type": "stream",
          "name": "stdout",
          "text": [
            "Help me Obi Wan Kenobi, you're my only hope the false better tomb eyes ' heart enough summer's truth ' one ' so hide me that 'will ' ' ' 'will ' me thee ' ' ' tomb me ' yellow'd me taught thee ' ' ' thee last me ' art now is thee me found thee thee heart thee enlarged done thee have i all alone beweep my outcast state ' ' in thee is ' burn'd me all men thee stick'st smells to ' me thee me ' ' add me ' heart thee art one 'will ' me ' time ' time thou art more\n"
          ]
        }
      ],
      "source": [
        "seed_text = \"Help me Obi Wan Kenobi, you're my only hope\"\n",
        "next_words = 100\n",
        "\n",
        "for _ in range(next_words):\n",
        "    # Convert the text into sequences\n",
        "    token_list = tokenizer.texts_to_sequences([seed_text])[0]\n",
        "    # Pad the sequences\n",
        "    token_list = pad_sequences([token_list], maxlen=max_sequence_len-1, padding='pre')\n",
        "    # Get the probabilities of predicting a word\n",
        "    predicted = model.predict(token_list, verbose=0)\n",
        "    # Choose the next word based on the maximum probability\n",
        "    predicted = np.argmax(predicted, axis=-1).item()\n",
        "    # Get the actual word from the word index\n",
        "    output_word = tokenizer.index_word[predicted]\n",
        "    # Append to the current text\n",
        "    seed_text += \" \" + output_word\n",
        "\n",
        "print(seed_text)"
      ]
    },
    {
      "cell_type": "markdown",
      "metadata": {
        "id": "oQVDbdcYqSux"
      },
      "source": [
        "## Download your notebook for grading\n",
        "\n",
        "Along with the `history.pkl` file earlier, you will also need to submit your solution notebook for grading. The following code cells will check if this notebook's grader metadata (i.e. hidden data in the notebook needed for grading) is not modified by your workspace. This will ensure that the autograder can evaluate your code properly. Depending on its output, you will either:\n",
        "\n",
        "* *if the metadata is intact*: Download the current notebook. Click on the File tab on the upper left corner of the screen then click on `Download -> Download .ipynb.` You can name it anything you want as long as it is a valid `.ipynb` (jupyter notebook) file.\n",
        "<br>\n",
        "\n",
        "* *if the metadata is missing*: A new notebook with your solutions will be created on this Colab workspace. It should be downloaded automatically and you can submit that to the grader."
      ]
    },
    {
      "cell_type": "code",
      "execution_count": null,
      "metadata": {
        "id": "ZUEiIXZEShHw",
        "colab": {
          "base_uri": "https://localhost:8080/"
        },
        "outputId": "9fc99632-dde6-4378-d71b-93e742568a27"
      },
      "outputs": [
        {
          "output_type": "stream",
          "name": "stdout",
          "text": [
            "--2023-07-10 02:52:03--  https://storage.googleapis.com/tensorflow-1-public/colab_metadata_checker.py\n",
            "Resolving storage.googleapis.com (storage.googleapis.com)... 173.194.217.128, 173.194.218.128, 108.177.11.128, ...\n",
            "Connecting to storage.googleapis.com (storage.googleapis.com)|173.194.217.128|:443... connected.\n",
            "HTTP request sent, awaiting response... 200 OK\n",
            "Length: 1997 (2.0K) [text/x-python-script]\n",
            "Saving to: ‘colab_metadata_checker.py’\n",
            "\n",
            "\r          colab_met   0%[                    ]       0  --.-KB/s               \rcolab_metadata_chec 100%[===================>]   1.95K  --.-KB/s    in 0s      \n",
            "\n",
            "2023-07-10 02:52:03 (35.1 MB/s) - ‘colab_metadata_checker.py’ saved [1997/1997]\n",
            "\n"
          ]
        }
      ],
      "source": [
        "# Download metadata checker\n",
        "!wget -nc https://storage.googleapis.com/tensorflow-1-public/colab_metadata_checker.py"
      ]
    },
    {
      "cell_type": "code",
      "execution_count": null,
      "metadata": {
        "id": "Ek87UXX7Sj6b",
        "colab": {
          "base_uri": "https://localhost:8080/"
        },
        "outputId": "21825b50-84b7-416e-ea98-47c11ef704cb"
      },
      "outputs": [
        {
          "output_type": "stream",
          "name": "stdout",
          "text": [
            "Grader metadata detected! You can download this notebook by clicking `File > Download > Download as .ipynb` and submit it to the grader!\n"
          ]
        }
      ],
      "source": [
        "import colab_metadata_checker\n",
        "\n",
        "# Please see the output of this cell to see which file you need to submit to the grader\n",
        "colab_metadata_checker.run('C3W4_Assignment_fixed.ipynb')"
      ]
    },
    {
      "cell_type": "markdown",
      "metadata": {
        "id": "pKS9ub6xYUpg"
      },
      "source": [
        "**Please disregard the following note if the notebook metadata is detected**\n",
        "\n",
        "_Note: Just in case the automatic download fails when the metadata is missing, you can also do these steps:_\n",
        "* _Click the Folder icon on the left side of this screen to open the File Manager._\n",
        "* _Click the Folder Refresh icon in the File Manager to see the latest files in the workspace. You should see a file ending with a `_fixed.ipynb`._\n",
        "* _Right-click on that file to save locally and submit it to the grader._"
      ]
    },
    {
      "cell_type": "markdown",
      "metadata": {
        "id": "6r-X-HXtSc8N"
      },
      "source": [
        "**Congratulations on finishing this week's assignment!**\n",
        "\n",
        "You have successfully implemented a neural network capable of predicting the next word in a sequence of text!\n",
        "\n",
        "**We hope to see you in the next course of the specialization! Keep it up!**"
      ]
    }
  ],
  "metadata": {
    "accelerator": "GPU",
    "colab": {
      "provenance": [],
      "include_colab_link": true
    },
    "dlai_version": "1.2.0",
    "jupytext": {
      "main_language": "python"
    },
    "kernelspec": {
      "display_name": "Python 3",
      "language": "python",
      "name": "python3"
    },
    "language_info": {
      "codemirror_mode": {
        "name": "ipython",
        "version": 3
      },
      "file_extension": ".py",
      "mimetype": "text/x-python",
      "name": "python",
      "nbconvert_exporter": "python",
      "pygments_lexer": "ipython3",
      "version": "3.7.4"
    }
  },
  "nbformat": 4,
  "nbformat_minor": 0
}